{
 "cells": [
  {
   "cell_type": "code",
   "execution_count": 2,
   "id": "c60a823f-b209-4d5e-a5d3-563feea22f4f",
   "metadata": {},
   "outputs": [],
   "source": [
    "\n",
    "\n",
    "class FlexibleDict(dict):\n",
    "    def __getitem__(self, key):\n",
    "        try:\n",
    "            if key in self:\n",
    "                pass\n",
    "            elif str(key) in self:\n",
    "                key = str(key)\n",
    "            elif int(key) in self:\n",
    "                key = int(key)\n",
    "        except ValueError:\n",
    "            pass\n",
    "        return dict.__getitem__(self, key)\n",
    "        "
   ]
  },
  {
   "cell_type": "code",
   "execution_count": 3,
   "id": "eb975cc6-d204-476f-acfd-ce682a1484fa",
   "metadata": {},
   "outputs": [],
   "source": [
    "fd = FlexibleDict()"
   ]
  },
  {
   "cell_type": "code",
   "execution_count": 4,
   "id": "dae0adc9-5829-48f8-82e4-e1a26e30a4d4",
   "metadata": {},
   "outputs": [],
   "source": [
    "fd['1'] = 100"
   ]
  },
  {
   "cell_type": "code",
   "execution_count": 5,
   "id": "4a044df3-bd22-49f7-8fd5-8bd366cd287d",
   "metadata": {},
   "outputs": [
    {
     "data": {
      "text/plain": [
       "100"
      ]
     },
     "execution_count": 5,
     "metadata": {},
     "output_type": "execute_result"
    }
   ],
   "source": [
    "fd['1']"
   ]
  },
  {
   "cell_type": "code",
   "execution_count": 6,
   "id": "d59383f4-c78e-404f-a2cf-30d786fa373a",
   "metadata": {},
   "outputs": [
    {
     "data": {
      "text/plain": [
       "100"
      ]
     },
     "execution_count": 6,
     "metadata": {},
     "output_type": "execute_result"
    }
   ],
   "source": [
    "fd[1]"
   ]
  },
  {
   "cell_type": "code",
   "execution_count": 7,
   "id": "52bd3d55-afc8-45e8-a2af-0bd6d01d0c06",
   "metadata": {},
   "outputs": [
    {
     "name": "stdout",
     "output_type": "stream",
     "text": [
      "Point(x=1, y=2, z=0)\n",
      "Point(x=1, y=2, z=0)\n",
      "True\n",
      "1\n",
      "2\n"
     ]
    }
   ],
   "source": [
    "from dataclasses import dataclass\n",
    "\n",
    "@dataclass\n",
    "class Point:\n",
    "    x: int\n",
    "    y: int\n",
    "    z: int = 0  # Default value for z\n",
    "\n",
    "# Creating instances of the Point class\n",
    "p1 = Point(1, 2)\n",
    "p2 = Point(1, 2)\n",
    "\n",
    "# Printing the instances\n",
    "print(p1)  # Output: Point(x=1, y=2, z=0)\n",
    "print(p2)  # Output: Point(x=1, y=2, z=0)\n",
    "\n",
    "# Comparing instances for equality\n",
    "print(p1 == p2)  # Output: True\n",
    "\n",
    "# Accessing individual attributes\n",
    "print(p1.x)  # Output: 1\n",
    "print(p2.y)  # Output: 2\n"
   ]
  },
  {
   "cell_type": "code",
   "execution_count": 8,
   "id": "c667009d-7162-4947-a874-c4b65531491c",
   "metadata": {},
   "outputs": [],
   "source": [
    "class Animal():\n",
    "    \"\"\"Base class for animals. Not meant to be instantiated.\"\"\"\n",
    "\n",
    "    def __init__(self, color, number_of_legs):\n",
    "        self.species = self.__class__.__name__\n",
    "        self.color = color\n",
    "        self.number_of_legs = number_of_legs\n",
    "\n",
    "    def __repr__(self):\n",
    "        return f'{self.color} {self.species}, {self.number_of_legs} legs'\n",
    "\n",
    "\n",
    "class Wolf(Animal):\n",
    "    \"\"\"Class for creating 4-legged wolves of any color\"\"\"\n",
    "\n",
    "    def __init__(self, color):\n",
    "        super().__init__(color, 4)\n",
    "\n",
    "\n",
    "class Sheep(Animal):\n",
    "    \"\"\"Class for creating 4-legged sheep of any color\"\"\"\n",
    "\n",
    "    def __init__(self, color):\n",
    "        super().__init__(color, 4)\n",
    "\n",
    "\n",
    "class Snake(Animal):\n",
    "    \"\"\"Class for creating 0-legged snakes of any color\"\"\"\n",
    "\n",
    "    def __init__(self, color):\n",
    "        super().__init__(color, 0)\n",
    "\n",
    "\n",
    "class Parrot(Animal):\n",
    "    \"\"\"Class for creating 2-legged parrots of any color\"\"\"\n",
    "\n",
    "    def __init__(self, color):\n",
    "        super().__init__(color, 2)\n",
    "class Cage():\n",
    "    \"\"\"Class for creating cages in which to put cute, furry animals.\"\"\"\n",
    "\n",
    "    def __init__(self, id_number):\n",
    "        self.id_number = id_number\n",
    "        self.animals = []\n",
    "\n",
    "    def add_animals(self, *animals):\n",
    "        \"\"\"Add one or more animals to a cage.  Returns None.\"\"\"\n",
    "        for one_animal in animals:\n",
    "            self.animals.append(one_animal)\n",
    "\n",
    "    def __repr__(self):\n",
    "        output = f'Cage {self.id_number}\\n'\n",
    "        output += '\\n'.join('\\t' + str(animal)\n",
    "                            for animal in self.animals)\n",
    "        return output\n",
    "    "
   ]
  },
  {
   "cell_type": "code",
   "execution_count": 83,
   "id": "d97dd1c5-dd23-4fe6-9c75-577d15700f9b",
   "metadata": {},
   "outputs": [],
   "source": [
    "#!/usr/bin/env python3\n",
    "\n",
    "\"\"\"Solution to chapter 9, exercise 45: zoo\"\"\"\n",
    "\n",
    "\n",
    "class Zoo():\n",
    "    \"\"\"A class in which to place our animals.\"\"\"\n",
    "\n",
    "    def __init__(self):\n",
    "        self.cages = []\n",
    "\n",
    "    def add_cages(self, *cages):\n",
    "        \"\"\"Add one or more cages to our zoo\"\"\"\n",
    "        for one_cage in cages:\n",
    "            self.cages.append(one_cage)\n",
    "\n",
    "    def __repr__(self):\n",
    "        return '\\n'.join(str(one_cage)\n",
    "                         for one_cage in self.cages)\n",
    "\n",
    "    def animals_by_color(self, color):\n",
    "        \"\"\"Return a list of Animal objects whose\n",
    "color matches the requested color\"\"\"\n",
    "        return [one_animal\n",
    "                for one_cage in self.cages\n",
    "                for one_animal in one_cage.animals\n",
    "                if one_animal.color == color]\n",
    "\n",
    "    def animals_by_legs(self, number_of_legs):\n",
    "        \"\"\"Return a list of Animal objects whose\n",
    "number of legs matches the requested number\"\"\"\n",
    "        return [one_animal\n",
    "                for one_cage in self.cages\n",
    "                for one_animal in one_cage.animals\n",
    "                if one_animal.number_of_legs == number_of_legs]\n",
    "\n",
    "    def number_of_legs(self):\n",
    "        \"\"\"Return the total number of legs of all animals\"\"\"\n",
    "        return sum(one_animal.number_of_legs\n",
    "                   for one_cage in self.cages\n",
    "                   for one_animal in one_cage.animals)"
   ]
  },
  {
   "cell_type": "code",
   "execution_count": 85,
   "id": "d31cb410-3a07-4265-b792-67471501e15b",
   "metadata": {},
   "outputs": [
    {
     "name": "stdout",
     "output_type": "stream",
     "text": [
      "black Wolf, 4 legs\n",
      "white Sheep, 4 legs\n",
      "brown Snake, 0 legs\n",
      "green Parrot, 2 legs\n",
      "Cage 1\n",
      "\tblack Wolf, 4 legs\n",
      "\twhite Sheep, 4 legs\n",
      "Cage 2\n",
      "\tbrown Snake, 0 legs\n",
      "\tgreen Parrot, 2 legs\n",
      "[white Sheep, 4 legs]\n",
      "[black Wolf, 4 legs, white Sheep, 4 legs]\n",
      "10\n"
     ]
    }
   ],
   "source": [
    "wolf = Wolf('black')\n",
    "sheep = Sheep('white')\n",
    "snake = Snake('brown')\n",
    "parrot = Parrot('green')\n",
    "print(wolf)\n",
    "print(sheep)\n",
    "print(snake)\n",
    "print(parrot)\n",
    "c1 = Cage(1)\n",
    "c1.add_animals(wolf, sheep)\n",
    "c2 = Cage(2)\n",
    "c2.add_animals(snake, parrot)\n",
    "z = Zoo()\n",
    "z.add_cages(c1, c2)\n",
    "print(z)\n",
    "print(z.animals_by_color('white'))\n",
    "print(z.animals_by_legs(4))\n",
    "print(z.number_of_legs())"
   ]
  },
  {
   "cell_type": "code",
   "execution_count": 87,
   "id": "e32c9af4-d9ce-4384-81e7-0c99f8315172",
   "metadata": {},
   "outputs": [
    {
     "name": "stdout",
     "output_type": "stream",
     "text": [
      "\tNow in __init__\n",
      "\tNOw in __iter__\n",
      "\tNow in __next__\n",
      "\tGot valuea, incremented index to 1\n",
      "a\n",
      "\tNow in __next__\n",
      "\tGot valueb, incremented index to 2\n",
      "b\n",
      "\tNow in __next__\n",
      "\tGot valuec, incremented index to 3\n",
      "c\n",
      "\tNow in __next__\n",
      "\tself.index (3) is too big; exiting\n"
     ]
    }
   ],
   "source": [
    "class LoudIterator():\n",
    "    def __init__(self, data):\n",
    "        print('\\tNow in __init__')\n",
    "        self.data = data\n",
    "        self.index = 0\n",
    "\n",
    "    def __iter__(self):\n",
    "        print(\"\\tNOw in __iter__\")\n",
    "        return self\n",
    "    def __next__(self):\n",
    "        print(\"\\tNow in __next__\")\n",
    "        if self.index >= len(self.data):\n",
    "            print(f\"\\tself.index ({self.index}) is too big; exiting\")\n",
    "            raise StopIteration\n",
    "        value  =self.data[self.index]\n",
    "        self.index += 1\n",
    "        print(f\"\\tGot value{value}, incremented index to {self.index}\")\n",
    "        return value\n",
    "\n",
    "for one_item in LoudIterator(\"abc\"):\n",
    "    print(one_item)"
   ]
  },
  {
   "cell_type": "code",
   "execution_count": 88,
   "id": "39fbf9b1-95dd-4bf7-8a01-ae8818507b86",
   "metadata": {},
   "outputs": [
    {
     "name": "stdout",
     "output_type": "stream",
     "text": [
      "1\n",
      "2\n",
      "3\n"
     ]
    }
   ],
   "source": [
    "def foo():\n",
    "    yield 1\n",
    "    yield 2\n",
    "    yield 3\n",
    "\n",
    "g = foo()\n",
    "for one_item in g:\n",
    "    print(one_item)"
   ]
  },
  {
   "cell_type": "code",
   "execution_count": 106,
   "id": "9ecf43e7-7abf-48a7-950f-7cfbdc06a62a",
   "metadata": {},
   "outputs": [],
   "source": [
    "class MyEnumerateIterator:\n",
    "    def __init__(self, data, index):\n",
    "        self.data = data\n",
    "        self.start = index\n",
    "        self.index = index\n",
    "\n",
    "    def __next__(self):\n",
    "        if self.index - self.start >= len(self.data):\n",
    "            raise StopIteration\n",
    "        value = (self.index, self.data[self.index-self.start])\n",
    "        self.index += 1\n",
    "        return value\n",
    "\n",
    "\n",
    "class MyEnumerate():\n",
    "    \"\"\"Simple replacement for enumerate\"\"\"\n",
    "\n",
    "    def __init__(self, data, index):\n",
    "        self.data = data\n",
    "        self.index = index\n",
    "\n",
    "    def __iter__(self):\n",
    "        return MyEnumerateIterator(self.data, self.index)"
   ]
  },
  {
   "cell_type": "code",
   "execution_count": 107,
   "id": "73e8bf94-7dc6-4f8d-bfc1-5e6478f73b01",
   "metadata": {},
   "outputs": [
    {
     "name": "stdout",
     "output_type": "stream",
     "text": [
      "2, a\n",
      "3, b\n",
      "4, c\n"
     ]
    }
   ],
   "source": [
    "for i, letter in MyEnumerate(\"abc\", 2):\n",
    "    print(f\"{i}, {letter}\")"
   ]
  },
  {
   "cell_type": "code",
   "execution_count": 111,
   "id": "be93b155-6893-472d-82b7-f5cb19e91ad1",
   "metadata": {},
   "outputs": [],
   "source": [
    "def my_enum(data, start=0):\n",
    "    index = start\n",
    "    for item in data:\n",
    "        yield index, item\n",
    "        index += 1"
   ]
  },
  {
   "cell_type": "code",
   "execution_count": 112,
   "id": "b1871a25-8bbc-4f89-98ae-c48b66731c68",
   "metadata": {},
   "outputs": [
    {
     "name": "stdout",
     "output_type": "stream",
     "text": [
      "2, a\n",
      "3, b\n",
      "4, c\n"
     ]
    }
   ],
   "source": [
    "for i, letter in my_enum(\"abc\", 2):\n",
    "    print(f\"{i}, {letter}\")"
   ]
  },
  {
   "cell_type": "code",
   "execution_count": 113,
   "id": "5fb061fd-5635-4342-9b01-d3401b8ffc7d",
   "metadata": {},
   "outputs": [
    {
     "name": "stdout",
     "output_type": "stream",
     "text": [
      "0\n",
      "1\n",
      "1\n",
      "2\n",
      "3\n",
      "5\n",
      "8\n",
      "13\n",
      "21\n",
      "34\n"
     ]
    }
   ],
   "source": [
    "def fibonacci_sequence():\n",
    "    a, b = 0, 1\n",
    "    while True:\n",
    "        yield a\n",
    "        a, b = b, a + b\n",
    "\n",
    "# Example usage:\n",
    "fib_gen = fibonacci_sequence()\n",
    "for _ in range(10):\n",
    "    print(next(fib_gen))\n"
   ]
  },
  {
   "cell_type": "code",
   "execution_count": 168,
   "id": "32f43b16-0068-4068-ac55-d39efe3ed2c4",
   "metadata": {},
   "outputs": [],
   "source": [
    "\n",
    "class CircleIterator():\n",
    "    def __init__(self, data, number):\n",
    "        self.data = data\n",
    "        self.number = number\n",
    "        self.index = 0 \n",
    "    def __next__(self): \n",
    "        if self.index >= len(self.data) and self.index <= self.number:            \n",
    "            value = self.data[self.index-len(self.data)]\n",
    "        elif self.index >= len(self.data) and self.index > self.number:\n",
    "            raise StopIteration\n",
    "        else:\n",
    "            value = self.data[self.index]\n",
    "        self.index += 1\n",
    "        return value\n",
    "            \n",
    "class Circle():\n",
    "    def __init__(self, data, number):\n",
    "        self.data = data\n",
    "        self.number = number        \n",
    "    def __iter__(self):\n",
    "        return CircleIterator(self.data, self.number)\n",
    "        "
   ]
  },
  {
   "cell_type": "code",
   "execution_count": 169,
   "id": "34be360a-3084-4a22-88b5-afef67fbe98a",
   "metadata": {},
   "outputs": [],
   "source": [
    "cint = Circle(\"abc\", 4)"
   ]
  },
  {
   "cell_type": "code",
   "execution_count": 170,
   "id": "22ad82a0-4c88-4a1e-b9cd-99b4757655c9",
   "metadata": {},
   "outputs": [
    {
     "name": "stdout",
     "output_type": "stream",
     "text": [
      "a\n",
      "b\n",
      "c\n",
      "a\n",
      "b\n"
     ]
    }
   ],
   "source": [
    "for a in cint:\n",
    "    print(a)"
   ]
  },
  {
   "cell_type": "code",
   "execution_count": 175,
   "id": "e3214141-422d-420a-82f8-4063113b21fe",
   "metadata": {},
   "outputs": [],
   "source": [
    "class CircleIter():\n",
    "    def __init__(self, data, max_times):\n",
    "        self.data = data\n",
    "        self.max_times = max_times\n",
    "        self.index = 0\n",
    "    def __next__(self):\n",
    "        if self.index >= self.max_times:\n",
    "            raise StopIteration\n",
    "        value = self.data[self.index % len(self.data)]\n",
    "        self.index += 1\n",
    "        return value\n",
    "\n",
    "class Circle2():\n",
    "    def __init__(self, data, max_times):\n",
    "        self.data = data\n",
    "        self.max_times = max_times\n",
    "    def __iter__(self):\n",
    "        return CircleIter(self.data, self.max_times)\n"
   ]
  },
  {
   "cell_type": "code",
   "execution_count": 176,
   "id": "ee79eeec-80ad-4563-ba02-8d16780680c5",
   "metadata": {},
   "outputs": [
    {
     "name": "stdout",
     "output_type": "stream",
     "text": [
      "['a', 'b', 'c', 'a', 'b', 'c', 'a']\n"
     ]
    }
   ],
   "source": [
    "c = Circle2(\"abc\", 7)\n",
    "print(list(c))"
   ]
  },
  {
   "cell_type": "code",
   "execution_count": 177,
   "id": "967a9cd5-5e35-4424-81a2-032cf42b2d3d",
   "metadata": {},
   "outputs": [],
   "source": [
    "# very hard...\n",
    "\n",
    "class CircleIterator3():\n",
    "    def __init__(self, data, max_times):\n",
    "        self.data = data\n",
    "        self.max_times = max_times\n",
    "        self.index = 0\n",
    "\n",
    "    def __next__(self):\n",
    "        if self.index >= self.max_times:\n",
    "            raise StopIteration\n",
    "\n",
    "        iterated_data = getattr(self, self.returns)  # self.data\n",
    "\n",
    "        value = iterated_data[self.index % len(iterated_data)]\n",
    "        self.index += 1\n",
    "        return value\n",
    "\n",
    "    def __iter__(self):\n",
    "        return type(self)(self.data, self.max_times)  # return the inheriting class\n",
    "\n",
    "\n",
    "class Circle3(CircleIterator):\n",
    "    def __init__(self, data, max_times):\n",
    "        super().__init__(data, max_times)\n",
    "        self.returns = 'data'"
   ]
  },
  {
   "cell_type": "code",
   "execution_count": 178,
   "id": "aeec8022-ed62-474a-8874-8b6f22147deb",
   "metadata": {},
   "outputs": [
    {
     "data": {
      "text/plain": [
       "['a', 'b', 'c', 'a', 'b']"
      ]
     },
     "execution_count": 178,
     "metadata": {},
     "output_type": "execute_result"
    }
   ],
   "source": [
    "def circle4(data, number):\n",
    "    for index in range(number):\n",
    "        yield data[index % len(data)]\n",
    "\n",
    "list(circle4(\"abc\", 5))"
   ]
  },
  {
   "cell_type": "code",
   "execution_count": 7,
   "id": "64e9c257-bea6-4bcb-9285-928e672e9f54",
   "metadata": {},
   "outputs": [],
   "source": [
    "class MyRange():\n",
    "    def __init__(self, start, end, step):\n",
    "        self.start = start\n",
    "        self.end= end\n",
    "        self.step = step\n",
    "        self.index = 0 \n",
    "    def __iter__(self):\n",
    "        return self\n",
    "    def __next__(self):\n",
    "         \n",
    "        value = self.start + self.step * self.index\n",
    "        if value > self.end:\n",
    "            raise StopIteration\n",
    "        self.index += 1\n",
    "        \n",
    "        return value\n",
    "        \n",
    "        \n",
    "\n",
    "class MyRange2:\n",
    "    def __init__(self, first, second=None, step=1):\n",
    "        if second is None:\n",
    "            self.current = 0\n",
    "            self.stop = first\n",
    "        else:\n",
    "            self.current = first\n",
    "            self.stop = second\n",
    "        self.step = step\n",
    "\n",
    "    def __iter__(self):\n",
    "        return self\n",
    "\n",
    "    def __next__(self):\n",
    "        if self.current >= self.stop:\n",
    "            raise StopIteration\n",
    "\n",
    "        value = self.current\n",
    "        self.current += self.step\n",
    "        return value\n",
    "    "
   ]
  },
  {
   "cell_type": "code",
   "execution_count": 5,
   "id": "5651ef79-a0c5-4d23-96a0-94100700dd14",
   "metadata": {},
   "outputs": [],
   "source": [
    "a = MyRange(1, 10, 2)"
   ]
  },
  {
   "cell_type": "code",
   "execution_count": 6,
   "id": "e7b7d3b6-ac77-45f1-83fa-3c82d16484d6",
   "metadata": {},
   "outputs": [
    {
     "data": {
      "text/plain": [
       "[1, 3, 5, 7, 9]"
      ]
     },
     "execution_count": 6,
     "metadata": {},
     "output_type": "execute_result"
    }
   ],
   "source": [
    "list(a)"
   ]
  },
  {
   "cell_type": "code",
   "execution_count": 4,
   "id": "662e4f13-b2ad-4b7d-b1cd-020335bf3321",
   "metadata": {},
   "outputs": [
    {
     "name": "stdout",
     "output_type": "stream",
     "text": [
      "<__main__.MyRange object at 0x7f9c7cbb2390>\n"
     ]
    }
   ],
   "source": [
    "print(a)"
   ]
  },
  {
   "cell_type": "code",
   "execution_count": null,
   "id": "809a2536-124c-4c71-92c7-638695daa101",
   "metadata": {},
   "outputs": [],
   "source": [
    "list(a)"
   ]
  },
  {
   "cell_type": "code",
   "execution_count": 9,
   "id": "6d8e0d90-85b3-41d5-a2af-60ef30924f4c",
   "metadata": {},
   "outputs": [],
   "source": [
    "import os\n",
    "import glob\n",
    "def allfile(dir):\n",
    "    files = glob.glob(f\"d:/{dir}/*.txt\")\n",
    "    for f in files:\n",
    "        for line in open(f, encoding='utf-8'):\n",
    "            yield line\n",
    "\n",
    "import os\n",
    "import re\n",
    "def all_lines(path):\n",
    "    for filename in os.listdir(path):\n",
    "        full_filename = os.path.join(path, filename)\n",
    "        try:\n",
    "            for line in open(full_filename):\n",
    "                yield line\n",
    "        except OSError:\n",
    "            pass"
   ]
  },
  {
   "cell_type": "code",
   "execution_count": 10,
   "id": "09fcd4a4-72e9-4a6b-ad20-5d981fbfd588",
   "metadata": {},
   "outputs": [],
   "source": [
    "import re\n",
    "\n",
    "\n",
    "\n",
    "def allfile3(dir, contained_string):\n",
    "    files = glob.glob(f\"d:/{dir}/*.txt\")\n",
    "    matched = re.compile(f\".{contained_string}.\")\n",
    "    for file_num, f in enumerate(files):\n",
    "        for line_num, line in enumerate(open(f, encoding='utf-8')):\n",
    "            if contained_string in line: \n",
    "                print(\"here\")\n",
    "                yield line\n",
    "        \n",
    "        "
   ]
  },
  {
   "cell_type": "code",
   "execution_count": 30,
   "id": "1c64cad7-a259-421a-b2aa-5bf125cd73ca",
   "metadata": {},
   "outputs": [],
   "source": [
    "import time\n",
    "\n",
    "\n",
    "def elapsed_since(data):\n",
    "    last_time = None\n",
    "    for one_data in data:\n",
    "        current_time = time.perf_counter()\n",
    "        delta = current_time - (last_time or current_time)\n",
    "        last_time = time.perf_counter()\n",
    "        yield delta, one_data"
   ]
  },
  {
   "cell_type": "code",
   "execution_count": 31,
   "id": "147f6bd8-3246-4419-8870-cd169b3d4866",
   "metadata": {},
   "outputs": [],
   "source": [
    "a = elapsed_since([4,5,6,7,8])"
   ]
  },
  {
   "cell_type": "code",
   "execution_count": 32,
   "id": "2a438aee-bb67-4ff4-a207-6637ff29761c",
   "metadata": {},
   "outputs": [
    {
     "name": "stdout",
     "output_type": "stream",
     "text": [
      "(0.0, 4)\n",
      "(1.50016332231462, 5)\n",
      "(1.5002058721147478, 6)\n",
      "(1.5002368679270148, 7)\n",
      "(1.5002009328454733, 8)\n"
     ]
    }
   ],
   "source": [
    "for i in a:\n",
    "    print(i)\n",
    "    time.sleep(1.5)"
   ]
  },
  {
   "cell_type": "code",
   "execution_count": 33,
   "id": "efa24dc8-c0ed-41b2-ac0a-d6b73104d964",
   "metadata": {},
   "outputs": [
    {
     "name": "stdout",
     "output_type": "stream",
     "text": [
      "a\n",
      "b\n",
      "c\n",
      "3\n",
      "5\n",
      "a\n",
      "b\n"
     ]
    }
   ],
   "source": [
    "from itertools import chain\n",
    "\n",
    "for one_item in chain('abc', [3,5], {'a':1, 'b':2}):\n",
    "    print(one_item)"
   ]
  },
  {
   "cell_type": "code",
   "execution_count": 34,
   "id": "694164d7-ed1b-45cf-b92a-3d5b5330b2e6",
   "metadata": {},
   "outputs": [],
   "source": [
    "def mychain(*args):\n",
    "    for seq in args:\n",
    "        for one_element in seq:\n",
    "            yield one_element"
   ]
  },
  {
   "cell_type": "code",
   "execution_count": 35,
   "id": "745486d6-6525-4f52-b891-bb5e3950e202",
   "metadata": {},
   "outputs": [
    {
     "name": "stdout",
     "output_type": "stream",
     "text": [
      "a\n",
      "b\n",
      "c\n",
      "3\n",
      "5\n",
      "a\n",
      "b\n"
     ]
    }
   ],
   "source": [
    "for one_item in mychain('abc', [3,5], {'a':1, 'b':2}):\n",
    "    print(one_item)"
   ]
  }
 ],
 "metadata": {
  "kernelspec": {
   "display_name": "Python 3 (ipykernel)",
   "language": "python",
   "name": "python3"
  },
  "language_info": {
   "codemirror_mode": {
    "name": "ipython",
    "version": 3
   },
   "file_extension": ".py",
   "mimetype": "text/x-python",
   "name": "python",
   "nbconvert_exporter": "python",
   "pygments_lexer": "ipython3",
   "version": "3.11.7"
  }
 },
 "nbformat": 4,
 "nbformat_minor": 5
}
